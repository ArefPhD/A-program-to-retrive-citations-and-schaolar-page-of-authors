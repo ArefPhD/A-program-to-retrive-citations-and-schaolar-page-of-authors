{
  "nbformat": 4,
  "nbformat_minor": 0,
  "metadata": {
    "colab": {
      "name": "Untitled118.ipynb",
      "private_outputs": true,
      "provenance": [],
      "authorship_tag": "ABX9TyOuCidtpAlkgwS/4yZYi6Es",
      "include_colab_link": true
    },
    "kernelspec": {
      "name": "python3",
      "display_name": "Python 3"
    },
    "language_info": {
      "name": "python"
    }
  },
  "cells": [
    {
      "cell_type": "markdown",
      "metadata": {
        "id": "view-in-github",
        "colab_type": "text"
      },
      "source": [
        "<a href=\"https://colab.research.google.com/github/ArefPhD/A-program-to-retrive-citations-and-schaolar-page-of-authors/blob/master/Untitled118.ipynb\" target=\"_parent\"><img src=\"https://colab.research.google.com/assets/colab-badge.svg\" alt=\"Open In Colab\"/></a>"
      ]
    },
    {
      "cell_type": "code",
      "execution_count": null,
      "metadata": {
        "id": "FDCUY2Rz5DoS"
      },
      "outputs": [],
      "source": [
        "# This Python 3 environment comes with many helpful analytics libraries installed\n",
        "# It is defined by the kaggle/python Docker image: https://github.com/kaggle/docker-python\n",
        "# For example, here's several helpful packages to load\n",
        "\n",
        "import numpy as np # linear algebra\n",
        "import pandas as pd # data processing, CSV file I/O (e.g. pd.read_csv)\n",
        "\n",
        "# Input data files are available in the read-only \"../input/\" directory\n",
        "# For example, running this (by clicking run or pressing Shift+Enter) will list all files under the input directory\n",
        "\n",
        "import os\n",
        "for dirname, _, filenames in os.walk('/kaggle/input'):\n",
        "    for filename in filenames:\n",
        "        print(os.path.join(dirname, filename))\n",
        "\n",
        "# You can write up to 20GB to the current directory (/kaggle/working/) that gets preserved as output when you create a version using \"Save & Run All\" \n",
        "# You can also write temporary files to /kaggle/temp/, but they won't be saved outside of the current session"
      ]
    },
    {
      "cell_type": "code",
      "source": [
        "from plotly.offline import plot, iplot, init_notebook_mode\n",
        "init_notebook_mode(connected=True)"
      ],
      "metadata": {
        "id": "MZMG3TqC5HtR"
      },
      "execution_count": null,
      "outputs": []
    },
    {
      "cell_type": "code",
      "source": [
        "from google.colab import files\n",
        "\n",
        "uploaded = files.upload()"
      ],
      "metadata": {
        "id": "gn_lWIZO5Nza"
      },
      "execution_count": null,
      "outputs": []
    },
    {
      "cell_type": "code",
      "source": [
        "car_df = pd.read_csv('Car_sales.csv')\n",
        "car_df"
      ],
      "metadata": {
        "id": "0SEm_byJ5JXL"
      },
      "execution_count": null,
      "outputs": []
    },
    {
      "cell_type": "code",
      "source": [
        "car_df.dropna(subset=['Price_in_thousands','Engine_size', 'Horsepower','Wheelbase','Width','Length','Curb_weight','Fuel_capacity','Fuel_efficiency','__year_resale_value'],inplace=True)"
      ],
      "metadata": {
        "id": "zLYXZ4rJ5XkZ"
      },
      "execution_count": null,
      "outputs": []
    },
    {
      "cell_type": "code",
      "source": [
        "car_df.sort_values(by=['Sales_in_thousands', 'Manufacturer'], ascending=True)\n",
        "car_df"
      ],
      "metadata": {
        "id": "dFXVm7lK5ZDY"
      },
      "execution_count": null,
      "outputs": []
    },
    {
      "cell_type": "code",
      "source": [
        "car_df.loc[(car_df['Sales_in_thousands'] > 200)]\n"
      ],
      "metadata": {
        "id": "oKG4Y4iH5bVx"
      },
      "execution_count": null,
      "outputs": []
    },
    {
      "cell_type": "code",
      "source": [
        "df_style = car_df.style.format({'Resale Value':'{:.2%}'})\n",
        "display(df_style)"
      ],
      "metadata": {
        "id": "D-P_JFUC5sic"
      },
      "execution_count": null,
      "outputs": []
    },
    {
      "cell_type": "code",
      "source": [
        "import seaborn as sns\n",
        "import matplotlib.pyplot as plt\n",
        "\n",
        "# Set the size of the plot\n",
        "plt.figure(figsize=(6,8))\n",
        "\n",
        "# Create an outlier in the data column\n",
        "car_df.loc[19,'Sales_in_thousands'] = 40\n",
        "\n",
        "# Create a box plot for the automobile sales on March 2010\n",
        "sns.boxplot(data=car_df, y='Sales_in_thousands', orient='v')"
      ],
      "metadata": {
        "id": "5gc5W2I35-LY"
      },
      "execution_count": null,
      "outputs": []
    },
    {
      "cell_type": "code",
      "source": [
        "plt.figure(figsize=(10,8))\n",
        "sns.boxplot(data=car_df, y='Price_in_thousands', x='Manufacturer', orient='v')\n",
        "plt.xticks(rotation=45)"
      ],
      "metadata": {
        "id": "-s6qY_Vi57YT"
      },
      "execution_count": null,
      "outputs": []
    },
    {
      "cell_type": "code",
      "source": [
        "pd.set_option('display.max_colwidth', None)\n",
        " \n",
        "# Turning off the max column will display all the data\n",
        "# if gathering into sets / array we might want to restrict to a few items\n",
        "pd.set_option('display.max_seq_items', 3)\n",
        "\n",
        "# Define a function for creating sparklines\n",
        "def sparkline(data, figsize=(4, 0.25), **kwargs):\n",
        "    \"\"\"\n",
        "    creates a sparkline\n",
        "    \"\"\"\n",
        "    from matplotlib import pyplot as plt\n",
        "    import base64\n",
        "    from io import BytesIO\n",
        "\n",
        "    data = list(data)\n",
        "\n",
        "    *_, ax = plt.subplots(1, 1, figsize=figsize, **kwargs)\n",
        "    ax.plot(data)\n",
        "    ax.fill_between(range(len(data)), data, len(data)*[min(data)], alpha=0.1)\n",
        "    ax.set_axis_off()\n",
        "\n",
        "    img = BytesIO()\n",
        "    plt.savefig(img)\n",
        "    plt.close()\n",
        "    return '<img src=\"data:image/png;base64, {}\" />'.format(base64.b64encode(img.getvalue()).decode())"
      ],
      "metadata": {
        "id": "nGnNnKh86cT1"
      },
      "execution_count": null,
      "outputs": []
    },
    {
      "cell_type": "code",
      "source": [
        "car_crosstab = pd.pivot_table(car_df, values='Model', index=['Manufacturer'], columns=['Sales_Cat'], aggfunc='count', fill_value=0)\n",
        "car_crosstab"
      ],
      "metadata": {
        "id": "r6B-FQVZ6hNZ"
      },
      "execution_count": null,
      "outputs": []
    },
    {
      "cell_type": "code",
      "source": [
        "from IPython.display import HTML\n",
        "\n",
        "sparkline_crosstab['Sparkline'] = sparkline_crosstab.apply(sparkline, axis=1)\n",
        "\n",
        "HTML(sparkline_crosstab[['Sparkline']].iloc[:20].to_html(escape=False))"
      ],
      "metadata": {
        "id": "vhuhcHwy6SN1"
      },
      "execution_count": null,
      "outputs": []
    },
    {
      "cell_type": "code",
      "source": [
        "import plotly.express as px\n",
        "import pandas as pd\n",
        "import numpy as np\n",
        "\n",
        "\n",
        "fig_line=px.line(        \n",
        "        year_df,\n",
        "        x = \"Year\", #Columns from the data frame\n",
        "        y = \"Car Sales\",\n",
        "    color='Region',\n",
        "        title = \"Car Sales over Time\"\n",
        ")\n",
        "\n",
        "    \n",
        "fig_line.update_xaxes(tickangle= 45)  \n",
        "fig_line.show()"
      ],
      "metadata": {
        "id": "Mr2qeivc6nRO"
      },
      "execution_count": null,
      "outputs": []
    }
  ]
}