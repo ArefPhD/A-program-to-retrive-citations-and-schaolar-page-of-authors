{
  "nbformat": 4,
  "nbformat_minor": 0,
  "metadata": {
    "colab": {
      "name": "Untitled106.ipynb",
      "private_outputs": true,
      "provenance": [],
      "authorship_tag": "ABX9TyOEVSNClv4hOj1zFEjGqdL8",
      "include_colab_link": true
    },
    "kernelspec": {
      "name": "python3",
      "display_name": "Python 3"
    },
    "language_info": {
      "name": "python"
    }
  },
  "cells": [
    {
      "cell_type": "markdown",
      "metadata": {
        "id": "view-in-github",
        "colab_type": "text"
      },
      "source": [
        "<a href=\"https://colab.research.google.com/github/ArefPhD/A-program-to-retrive-citations-and-schaolar-page-of-authors/blob/master/Colorseparationusingkmeanclustering.ipynb\" target=\"_parent\"><img src=\"https://colab.research.google.com/assets/colab-badge.svg\" alt=\"Open In Colab\"/></a>"
      ]
    },
    {
      "cell_type": "code",
      "execution_count": null,
      "metadata": {
        "id": "-5dojIEnZx4x"
      },
      "outputs": [],
      "source": [
        "import numpy as np\n",
        "import pandas as pd\n",
        "import matplotlib.pyplot as plt\n",
        "import cv2\n",
        "from sklearn.cluster import KMeans"
      ]
    },
    {
      "cell_type": "code",
      "source": [
        "from google.colab import files\n",
        "\n",
        "uploaded = files.upload()"
      ],
      "metadata": {
        "id": "lVYHhxAoa03i"
      },
      "execution_count": null,
      "outputs": []
    },
    {
      "cell_type": "code",
      "source": [
        "img=cv2.imread('Untitledf.jpg')\n",
        "plt.imshow(img)"
      ],
      "metadata": {
        "id": "QpNhEQbcZ0ME"
      },
      "execution_count": null,
      "outputs": []
    },
    {
      "cell_type": "code",
      "source": [
        "img=cv2.cvtColor(img,cv2.COLOR_BGR2RGB)\n",
        "plt.imshow(img)"
      ],
      "metadata": {
        "id": "ZOnbMTwyaRFH"
      },
      "execution_count": null,
      "outputs": []
    },
    {
      "cell_type": "code",
      "source": [
        "img=img.reshape((img.shape[1]*img.shape[0],3))\n"
      ],
      "metadata": {
        "id": "Aa16n8ToaUbP"
      },
      "execution_count": null,
      "outputs": []
    },
    {
      "cell_type": "code",
      "source": [
        "kmeans=KMeans(n_clusters=4)\n",
        "s=kmeans.fit(img)"
      ],
      "metadata": {
        "id": "nQeZm-awabUe"
      },
      "execution_count": null,
      "outputs": []
    },
    {
      "cell_type": "code",
      "source": [
        "labels=kmeans.labels_\n",
        "print(labels)\n",
        "labels=list(labels)"
      ],
      "metadata": {
        "id": "kws0_BlLaeMO"
      },
      "execution_count": null,
      "outputs": []
    },
    {
      "cell_type": "code",
      "source": [
        "centroid=kmeans.cluster_centers_\n",
        "print(centroid)"
      ],
      "metadata": {
        "id": "pcvjkdaPaibg"
      },
      "execution_count": null,
      "outputs": []
    },
    {
      "cell_type": "code",
      "source": [
        "percent=[]\n",
        "for i in range(len(centroid)):\n",
        "  j=labels.count(i)\n",
        "  j=j/(len(labels))\n",
        "  percent.append(j)\n",
        "print(percent)"
      ],
      "metadata": {
        "id": "eJ9AycDWakvA"
      },
      "execution_count": null,
      "outputs": []
    },
    {
      "cell_type": "code",
      "source": [
        "plt.pie(percent,colors=np.array(centroid/255),labels=np.arange(len(centroid)))\n",
        "plt.show()"
      ],
      "metadata": {
        "id": "oDwpanG7apDI"
      },
      "execution_count": null,
      "outputs": []
    }
  ]
}