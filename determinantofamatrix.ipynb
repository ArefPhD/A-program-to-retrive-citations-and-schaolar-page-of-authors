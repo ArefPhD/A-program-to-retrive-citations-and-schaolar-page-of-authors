{
  "nbformat": 4,
  "nbformat_minor": 0,
  "metadata": {
    "colab": {
      "name": "Untitled114.ipynb",
      "private_outputs": true,
      "provenance": [],
      "authorship_tag": "ABX9TyPcQPxkMnufgZ/9+ROatEfn",
      "include_colab_link": true
    },
    "kernelspec": {
      "name": "python3",
      "display_name": "Python 3"
    },
    "language_info": {
      "name": "python"
    }
  },
  "cells": [
    {
      "cell_type": "markdown",
      "metadata": {
        "id": "view-in-github",
        "colab_type": "text"
      },
      "source": [
        "<a href=\"https://colab.research.google.com/github/ArefPhD/A-program-to-retrive-citations-and-schaolar-page-of-authors/blob/master/determinantofamatrix.ipynb\" target=\"_parent\"><img src=\"https://colab.research.google.com/assets/colab-badge.svg\" alt=\"Open In Colab\"/></a>"
      ]
    },
    {
      "cell_type": "code",
      "source": [
        "import numpy as np"
      ],
      "metadata": {
        "id": "Phedg9rIm3Qq"
      },
      "execution_count": null,
      "outputs": []
    },
    {
      "cell_type": "code",
      "source": [
        "matrixA = np.array([[1, 0, 0],\n",
        "                       [0, 1, 0],\n",
        "                       [0, 0, 1]])"
      ],
      "metadata": {
        "id": "xVdZFEwfnEzT"
      },
      "execution_count": null,
      "outputs": []
    },
    {
      "cell_type": "code",
      "source": [
        "display(matrixA)"
      ],
      "metadata": {
        "id": "u7hFto5qnPur"
      },
      "execution_count": null,
      "outputs": []
    },
    {
      "cell_type": "code",
      "source": [
        "print(matrixA)"
      ],
      "metadata": {
        "id": "mwaggnT2nUJS"
      },
      "execution_count": null,
      "outputs": []
    },
    {
      "cell_type": "code",
      "source": [
        "print(np.linalg.det(matrixA))"
      ],
      "metadata": {
        "id": "SLEPsOnHnVc6"
      },
      "execution_count": null,
      "outputs": []
    }
  ]
}