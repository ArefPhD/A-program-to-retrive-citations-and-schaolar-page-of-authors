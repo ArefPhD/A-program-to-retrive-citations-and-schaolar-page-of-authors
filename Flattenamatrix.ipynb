{
  "nbformat": 4,
  "nbformat_minor": 0,
  "metadata": {
    "colab": {
      "name": "Untitled114.ipynb",
      "private_outputs": true,
      "provenance": [],
      "authorship_tag": "ABX9TyNNzR3+uYviUrobvgmJzly7",
      "include_colab_link": true
    },
    "kernelspec": {
      "name": "python3",
      "display_name": "Python 3"
    },
    "language_info": {
      "name": "python"
    }
  },
  "cells": [
    {
      "cell_type": "markdown",
      "metadata": {
        "id": "view-in-github",
        "colab_type": "text"
      },
      "source": [
        "<a href=\"https://colab.research.google.com/github/ArefPhD/A-program-to-retrive-citations-and-schaolar-page-of-authors/blob/master/Flattenamatrix.ipynb\" target=\"_parent\"><img src=\"https://colab.research.google.com/assets/colab-badge.svg\" alt=\"Open In Colab\"/></a>"
      ]
    },
    {
      "cell_type": "code",
      "source": [
        "import numpy as np"
      ],
      "metadata": {
        "id": "Phedg9rIm3Qq"
      },
      "execution_count": null,
      "outputs": []
    },
    {
      "cell_type": "code",
      "execution_count": null,
      "metadata": {
        "id": "R2B6ZT8zm2KD"
      },
      "outputs": [],
      "source": [
        "matrixB = np.array([[2, 3, 4],\n",
        "                    ])"
      ]
    },
    {
      "cell_type": "code",
      "source": [
        "print(matrixB.flatten())"
      ],
      "metadata": {
        "id": "hKdhqK8Mm5AJ"
      },
      "execution_count": null,
      "outputs": []
    }
  ]
}