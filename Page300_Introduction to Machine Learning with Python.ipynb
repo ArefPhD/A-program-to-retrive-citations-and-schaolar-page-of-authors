{
  "nbformat": 4,
  "nbformat_minor": 0,
  "metadata": {
    "colab": {
      "name": "Untitled103.ipynb",
      "private_outputs": true,
      "provenance": [],
      "authorship_tag": "ABX9TyMkvQ/4LRA0WGlQ1AsewvgV",
      "include_colab_link": true
    },
    "kernelspec": {
      "name": "python3",
      "display_name": "Python 3"
    },
    "language_info": {
      "name": "python"
    }
  },
  "cells": [
    {
      "cell_type": "markdown",
      "metadata": {
        "id": "view-in-github",
        "colab_type": "text"
      },
      "source": [
        "<a href=\"https://colab.research.google.com/github/ArefPhD/A-program-to-retrive-citations-and-schaolar-page-of-authors/blob/master/Page300_Introduction%20to%20Machine%20Learning%20with%20Python.ipynb\" target=\"_parent\"><img src=\"https://colab.research.google.com/assets/colab-badge.svg\" alt=\"Open In Colab\"/></a>"
      ]
    },
    {
      "cell_type": "code",
      "source": [
        "pip install mglearn "
      ],
      "metadata": {
        "id": "BZ6F_damJfE-"
      },
      "execution_count": null,
      "outputs": []
    },
    {
      "cell_type": "code",
      "source": [
        "pip install -U scikit-learn\n"
      ],
      "metadata": {
        "id": "pChJAXZRJn8C"
      },
      "execution_count": null,
      "outputs": []
    },
    {
      "cell_type": "code",
      "source": [
        "from sklearn.model_selection import train_test_split"
      ],
      "metadata": {
        "id": "UV-ypXz3JygS"
      },
      "execution_count": null,
      "outputs": []
    },
    {
      "cell_type": "code",
      "source": [
        "from sklearn import svm\n"
      ],
      "metadata": {
        "id": "InADqClHKVSr"
      },
      "execution_count": null,
      "outputs": []
    },
    {
      "cell_type": "code",
      "execution_count": null,
      "metadata": {
        "id": "D2U73KFxIpnV"
      },
      "outputs": [],
      "source": [
        "from mglearn.datasets import make_blobs\n",
        "X, y = make_blobs(n_samples=(400, 50), centers=2, cluster_std=[7.0, 2],\n",
        " random_state=22)\n",
        "X_train, X_test, y_train, y_test = train_test_split(X, y, random_state=0)\n",
        "svc = svm.SVC(gamma=.05).fit(X_train, y_train)"
      ]
    },
    {
      "cell_type": "code",
      "source": [
        "\n",
        "import mglearn\n"
      ],
      "metadata": {
        "id": "SCGiTElwKyCs"
      },
      "execution_count": null,
      "outputs": []
    },
    {
      "cell_type": "code",
      "source": [
        "mglearn.plots.plot_decision_threshold()"
      ],
      "metadata": {
        "id": "0D6TOKHTIrWB"
      },
      "execution_count": null,
      "outputs": []
    }
  ]
}