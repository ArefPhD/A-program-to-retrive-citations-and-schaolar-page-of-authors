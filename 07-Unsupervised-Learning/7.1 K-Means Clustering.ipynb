{
  "nbformat": 4,
  "nbformat_minor": 0,
  "metadata": {
    "kernelspec": {
      "display_name": "Python 3",
      "language": "python",
      "name": "python3"
    },
    "language_info": {
      "codemirror_mode": {
        "name": "ipython",
        "version": 3
      },
      "file_extension": ".py",
      "mimetype": "text/x-python",
      "name": "python",
      "nbconvert_exporter": "python",
      "pygments_lexer": "ipython3",
      "version": "3.7.1"
    },
    "colab": {
      "name": "7.1 K-Means Clustering.ipynb",
      "provenance": [],
      "include_colab_link": true
    }
  },
  "cells": [
    {
      "cell_type": "markdown",
      "metadata": {
        "id": "view-in-github",
        "colab_type": "text"
      },
      "source": [
        "<a href=\"https://colab.research.google.com/github/ArefPhD/A-program-to-retrive-citations-and-schaolar-page-of-authors/blob/master/07-Unsupervised-Learning/7.1%20K-Means%20Clustering.ipynb\" target=\"_parent\"><img src=\"https://colab.research.google.com/assets/colab-badge.svg\" alt=\"Open In Colab\"/></a>"
      ]
    },
    {
      "cell_type": "markdown",
      "metadata": {
        "id": "gIT7vmg-1lnu"
      },
      "source": [
        "# Chapter 7. Unsupervised Learning\n",
        "\n",
        "In many applications, observations need to be divided into similar groups based on observed features. For example, retailers may want to divide potential customers into groups, in order to target a marketing campaign at the customers who are most likely to respond positively. This practice is known as _market segmentation_.\n",
        "\n",
        "The general problem of grouping observations based on observed features is known as _clustering_ in machine learning. Like the classification problems of Chapter 6, clustering is about dividing observations into categories based on features. Unlike classification, we do not have ground truth labels that specify what the categories should be; they have to be inferred from the data. In other words, with classification, the training data contains both features $X$ and labels $y$; with clustering, the training data only contains features $X$.\n",
        "\n",
        "For this reason, clustering is an example of an _unsupervised learning_ problem, in contrast to the _supervised learning_ problems of the previous chapters. This terminology comes from the following analogy to human learning.  Imagine a child that is trying to learn the difference between shapes and has several examples of each shape in front of him.\n",
        "\n",
        "![](https://github.com/dlsun/pods/blob/master/07-Unsupervised-Learning/shape_sorter.jpg?raw=1)\n",
        "\n",
        "On the one hand, the child may be _supervised_ by an adult who gives the child feedback on each answer: \"Yes, that is a circle....No, that was a square....No, that was actually a circle....\"  This process is analogous to classification, where the labels in the training data can be used to provide \"feedback\" on how well the model is doing. Regression and classification are both examples of _supervised learning_ because labels are available in the training data.\n",
        "\n",
        "On the other hand, the child may be _unsupervised_ and completely left to his own devices. Eventually, he may figure out that there is something similar about all of the circles that distinguish them from the squares. But he won't know that they are called \"circles\", nor will he know whether he is right or not. This is the fundamental challenge of unsupervised learning. Clustering is an example of _unsupervised learning_ because labels are not available in the training data.\n",
        "\n",
        "We will practice clustering on a dataset containing measurements of 150 iris flowers, collected by the statistician R. A. Fisher."
      ]
    },
    {
      "cell_type": "code",
      "metadata": {
        "id": "cQ24UxaQ1lny"
      },
      "source": [
        "import numpy as np\n",
        "import pandas as pd\n",
        "\n",
        "data_dir = \"https://dlsun.github.io/pods/data/\"\n",
        "df_iris = pd.read_csv(data_dir + \"iris.csv\")\n",
        "df_iris.head()"
      ],
      "execution_count": null,
      "outputs": []
    },
    {
      "cell_type": "markdown",
      "metadata": {
        "id": "-RrIp1_e1ln4"
      },
      "source": [
        "Let's focus on just two of the variables, the petal length and width, so that we can easily visualize the data. Based on the scatterplot below, how many clusters are there in this data set? Can you devise an algorithm that would automatically identify those clusters?"
      ]
    },
    {
      "cell_type": "code",
      "metadata": {
        "id": "nwnlgfeh1ln5"
      },
      "source": [
        "X_train = df_iris[[\"PetalLength\", \"PetalWidth\"]]\n",
        "X_train.plot.scatter(x=\"PetalLength\", y=\"PetalWidth\", \n",
        "                     c=\"black\", marker=\"x\", alpha=.5)"
      ],
      "execution_count": null,
      "outputs": []
    },
    {
      "cell_type": "markdown",
      "metadata": {
        "id": "ovyRxHuO1ln-"
      },
      "source": [
        "# Chapter 7.1 $K$-Means Clustering"
      ]
    },
    {
      "cell_type": "markdown",
      "metadata": {
        "id": "8wjeNsD21loB"
      },
      "source": [
        "$K$-means is an algorithm for finding clusters in data. The idea behind $k$-means is simple: each cluster has a \"center\" point called the **centroid**, and each observation is associated with the cluster of its nearest centroid. The challenge is finding those centroids. The $k$-means algorithm starts with a random guess for the centroids and iteratively improves them.\n",
        "\n",
        "The steps are as follows:\n",
        "\n",
        "1. Initialize $k$ centroids at random.\n",
        "2. Assign each point to the cluster of its nearest centroid.\n",
        "3. (After reassignment, each centroid may no longer be at the center of its cluster.) Recompute each centroid based on the points assigned to its cluster.\n",
        "4. Repeat steps 2 and 3 until no points change clusters.\n",
        "\n",
        "# Implementing K-Means from Scratch\n",
        "\n",
        "First, we will implement the $k$-means algorithm from scratch. First, let's sample 3 points at random from the iris data to serve as the initial centroids."
      ]
    },
    {
      "cell_type": "code",
      "metadata": {
        "id": "-IhlAYDk1loC"
      },
      "source": [
        "# Initialize 3 centroids at random from the data.\n",
        "centroids = X_train.sample(3)\n",
        "\n",
        "# Call the three clusters \"red\", \"blue\", \"yellow\" for convenience.\n",
        "centroids.index = [\"r\", \"b\", \"y\"]\n",
        "\n",
        "# Plot these centroids.\n",
        "ax = X_train.plot.scatter(x=\"PetalLength\", y=\"PetalWidth\", \n",
        "                          c=\"black\", marker=\"x\", alpha=.5)\n",
        "centroids.plot.scatter(x=\"PetalLength\", y=\"PetalWidth\", \n",
        "                       c=centroids.index, ax=ax)\n",
        "\n",
        "centroids"
      ],
      "execution_count": null,
      "outputs": []
    },
    {
      "cell_type": "markdown",
      "metadata": {
        "id": "eUMVbJrS1loI"
      },
      "source": [
        "Now we assign each point to the cluster of its nearest centroid."
      ]
    },
    {
      "cell_type": "code",
      "metadata": {
        "id": "J4MtsHos1loJ"
      },
      "source": [
        "# Finds the nearest centroid to a given observation.\n",
        "def get_nearest_centroid(obs):\n",
        "    dists = np.sqrt(((obs - centroids) ** 2).sum(axis=1))\n",
        "    return dists.idxmin()\n",
        "\n",
        "get_nearest_centroid(X_train.loc[0])"
      ],
      "execution_count": null,
      "outputs": []
    },
    {
      "cell_type": "code",
      "metadata": {
        "id": "33vamCDa1loN"
      },
      "source": [
        "# Apply the function to the entire data set.\n",
        "clusters = X_train.apply(get_nearest_centroid, axis=1)\n",
        "\n",
        "# Plot the cluster assignments.\n",
        "ax = X_train.plot.scatter(x=\"PetalLength\", y=\"PetalWidth\", \n",
        "                          c=clusters, marker=\"x\", alpha=.5)\n",
        "centroids.plot.scatter(x=\"PetalLength\", y=\"PetalWidth\", \n",
        "                       c=centroids.index, ax=ax)"
      ],
      "execution_count": null,
      "outputs": []
    },
    {
      "cell_type": "markdown",
      "metadata": {
        "id": "7GTX3HBb1loS"
      },
      "source": [
        "Notice that some of the centroids are no longer at the center of their clusters. We can fix that by redefining the centroid to be the mean of the points in its cluster."
      ]
    },
    {
      "cell_type": "code",
      "metadata": {
        "id": "ZZ8zXdpA1loT"
      },
      "source": [
        "# Calculate the mean length and width for each cluster.\n",
        "centroids = X_train.groupby(clusters).mean()\n",
        "\n",
        "# Let's plot the new centroids.\n",
        "ax = X_train.plot.scatter(x=\"PetalLength\", y=\"PetalWidth\", \n",
        "                          c=clusters, marker=\"x\", alpha=.5)\n",
        "centroids.plot.scatter(x=\"PetalLength\", y=\"PetalWidth\", \n",
        "                       c=centroids.index, ax=ax)\n",
        "\n",
        "centroids"
      ],
      "execution_count": null,
      "outputs": []
    },
    {
      "cell_type": "markdown",
      "metadata": {
        "id": "53wheguP1loW"
      },
      "source": [
        "Now, there may be some points that are no longer assigned to their closest centroid, so we have to go back and re-assign clusters. But that may cause the centroids to no longer be at the center of their cluster, so we have to recalculate the centroids. And so on. This process continues until the cluster assignments stop changing."
      ]
    },
    {
      "cell_type": "code",
      "metadata": {
        "id": "-6pANF0j1loY"
      },
      "source": [
        "# Assign points to their nearest centroid.\n",
        "clusters = X_train.apply(get_nearest_centroid, axis=1)\n",
        "\n",
        "# Recalculate the centroids based on the clusters.\n",
        "centroids = X_train.groupby(clusters).mean()\n",
        "\n",
        "# Plot the current cluster assignments and the centroids.\n",
        "ax = X_train.plot.scatter(x=\"PetalLength\", y=\"PetalWidth\", \n",
        "                          c=clusters, marker=\"x\", alpha=.5)\n",
        "centroids.plot.scatter(x=\"PetalLength\", y=\"PetalWidth\", \n",
        "                       c=centroids.index, ax=ax)"
      ],
      "execution_count": null,
      "outputs": []
    },
    {
      "cell_type": "markdown",
      "metadata": {
        "id": "tsC4v8ZR1lob"
      },
      "source": [
        "We can run the code in the above cell over and over until the clusters stop changing. This is the final cluster assignment.\n",
        "\n",
        "It is not so easy to visualize the clusters when there are more than 2 features. But we can wrap the same algorithm inside a loop that continues until the cluster assignments do not change from one step to the next. One of the exercises below walks you through such an implementation.\n",
        "\n",
        "# K-Means in _scikit-learn_\n",
        "\n",
        "We rarely need to implement the $k$-means algorithm from scratch because it is available in _scikit-learn_. The API for _scikit-learn_'s $k$-means model is similar to the API for supervised learning models, like $k$-nearest neighbors, except that the `.fit()` method only takes in `X`, not `X` and `y`. This makes sense because in unsupervised learning, there are no ground truth labels `y`."
      ]
    },
    {
      "cell_type": "code",
      "metadata": {
        "id": "S5zTk9MI1lod"
      },
      "source": [
        "from sklearn.cluster import KMeans\n",
        "\n",
        "model = KMeans(n_clusters=3)\n",
        "model.fit(X_train)"
      ],
      "execution_count": null,
      "outputs": []
    },
    {
      "cell_type": "code",
      "metadata": {
        "id": "Xywvpg_y1lol"
      },
      "source": [
        "# Extract the centroids and the clusters.\n",
        "centroids = model.cluster_centers_\n",
        "clusters = model.labels_\n",
        "\n",
        "clusters"
      ],
      "execution_count": null,
      "outputs": []
    },
    {
      "cell_type": "code",
      "metadata": {
        "id": "qtWZ0V7v1loq"
      },
      "source": [
        "# Map the cluster numbers to colors.\n",
        "clusters = pd.Series(clusters).map({\n",
        "    0: \"r\",\n",
        "    1: \"b\",\n",
        "    2: \"y\"\n",
        "})\n",
        "\n",
        "# Plot the data\n",
        "X_train.plot.scatter(x=\"PetalLength\", y=\"PetalWidth\", \n",
        "                     c=clusters, marker=\"x\", alpha=.5)"
      ],
      "execution_count": null,
      "outputs": []
    },
    {
      "cell_type": "markdown",
      "metadata": {
        "id": "FiaAIkib1lou"
      },
      "source": [
        "We can call `model.predict()` to get the cluster assignment for a new observation. This will simply assign the new observation to the nearest cluster without recalculating the centroids. (If this observation had been in the training data, then assigning the new observation to a cluster would require recalculating the centroid, which would in turn require reassigning observations to clusters, and so on.)\n",
        "\n",
        "For example, consider a flower whose petal has a length of 5.0 and a width of 0.5. It's obvious which cluster this point should be assigned to. Let's check that this is indeed the case, by calling `.predict()` on our fitted model."
      ]
    },
    {
      "cell_type": "code",
      "metadata": {
        "id": "7LtOvWDW1lov"
      },
      "source": [
        "model.predict([[5.0, 0.5]])"
      ],
      "execution_count": null,
      "outputs": []
    },
    {
      "cell_type": "markdown",
      "metadata": {
        "id": "YDwZk3Sv1loy"
      },
      "source": [
        "## A Note about Standardization\n",
        "\n",
        "Note that we did not standardize the variables in the example above. Just as with $k$-nearest neighbors, it is generally a good idea to standardize your variables before applying $k$-means. Let's see how different the clusters would be if the variables had been standardized."
      ]
    },
    {
      "cell_type": "code",
      "metadata": {
        "id": "Iemr_y-H1loz"
      },
      "source": [
        "from sklearn.preprocessing import StandardScaler\n",
        "\n",
        "scaler = StandardScaler()\n",
        "scaler.fit(X_train)\n",
        "X_train_std = scaler.transform(X_train)\n",
        "\n",
        "model = KMeans(n_clusters=3)\n",
        "model.fit(X_train_std)\n",
        "\n",
        "clusters = pd.Series(model.labels_).map({\n",
        "    0: \"r\",\n",
        "    1: \"b\",\n",
        "    2: \"y\"\n",
        "})\n",
        "\n",
        "X_train.plot.scatter(x=\"PetalLength\", y=\"PetalWidth\", \n",
        "                     c=clusters, marker=\"x\", alpha=.5)"
      ],
      "execution_count": null,
      "outputs": []
    },
    {
      "cell_type": "markdown",
      "metadata": {
        "id": "HW2uT9_c1lo4"
      },
      "source": [
        "Let's compare these clusters to the ones we obtained above, keeping in mind that the coloring of the clusters is arbitrary. (All that matters is which observations are grouped together.) We see that only a handful observations near the boundary actually change cluster.  Standardization turns out not to matter much for the iris dataset because the variables are on similar scales. But in data sets with variables on different scales, standardization is crucial."
      ]
    },
    {
      "cell_type": "markdown",
      "metadata": {
        "id": "9zPRsVuR1lo6"
      },
      "source": [
        "# Exercises"
      ]
    },
    {
      "cell_type": "markdown",
      "metadata": {
        "id": "eURnOJv71lo7"
      },
      "source": [
        "1\\. Use $k$-means to cluster the wines in the wines dataset into 2 clusters. (Code to read in this dataset has been provided below.) How well do your two clusters correspond to white and red wines? (The way the dataset is read in below, the first 1599 wines are red, and the rest are white.)\n",
        "\n",
        "_Hint:_ Don't forget to standardize your variables first!"
      ]
    },
    {
      "cell_type": "code",
      "metadata": {
        "id": "TQZhWmn21lo8"
      },
      "source": [
        "wines = pd.read_csv(data_dir + \"wines.csv\")\n",
        "wines.head()"
      ],
      "execution_count": null,
      "outputs": []
    },
    {
      "cell_type": "markdown",
      "metadata": {
        "id": "ktdv0xu11lpA"
      },
      "source": [
        "2\\. Use $k$-means to cluster the Titanic passengers (`https://dlsun.github.io/pods/data/titanic.csv`) into $k$ clusters. You are free to choose the number of clusters $k$ and the features to include (but be sure to include both categorical and quantitative features). Look at the profiles of the passengers in each cluster. Can you come up with an \"interpretation\" of each cluster based on the passengers in it?"
      ]
    },
    {
      "cell_type": "markdown",
      "metadata": {
        "id": "NKX8KzDf1lpE"
      },
      "source": [
        "3\\. The code below reads in the \"two moons\" dataset, a synthetic dataset that is used to evaluate clustering algorithms. What should be the two clusters be _intuitively_? What do you think $k$-means will return as the clusters? Once you have a hypothesis, test it out by fitting the model to this dataset and plotting the resulting clusters."
      ]
    },
    {
      "cell_type": "code",
      "metadata": {
        "id": "SbI7MVA-1lpF"
      },
      "source": [
        "# TYPE YOUR CODE HERE\n",
        "moons = pd.read_csv(data_dir + \"two_moons.csv\")\n",
        "moons.plot.scatter(x=\"x1\", y=\"x2\", color=\"k\")"
      ],
      "execution_count": null,
      "outputs": []
    },
    {
      "cell_type": "markdown",
      "metadata": {
        "id": "SR_-MtU61lpL"
      },
      "source": [
        "4\\. The code below reads in the \"satellite\" dataset, a synthetic dataset that is used to evaluate clustering algorithms. What should the two clusters be _intuitively_? What will the clusters be if you ask $k$-means to cluster this data into 2 clusters? Once you have a hypothesis, test it out by running $k$-means on this dataset."
      ]
    },
    {
      "cell_type": "code",
      "metadata": {
        "id": "BQmYUJQE1lpO"
      },
      "source": [
        "# TYPE YOUR CODE HERE\n",
        "satellite = pd.read_csv(data_dir + \"satellite.csv\")\n",
        "satellite.plot.scatter(x=\"x1\", y=\"x2\", color=\"k\")"
      ],
      "execution_count": null,
      "outputs": []
    },
    {
      "cell_type": "markdown",
      "metadata": {
        "id": "3ZGEB_Zo1lpS"
      },
      "source": [
        "_Challenge._ Write a function, `get_kmeans_clusters`, that takes in a `DataFrame` and a number of clusters, and returns a `Series` containing the cluster assignment of each observation (row)."
      ]
    },
    {
      "cell_type": "code",
      "metadata": {
        "id": "HZUpfbvD1lpU"
      },
      "source": [
        "def get_kmeans_clusters(X_train, k):\n",
        "    raise NotImplementedError"
      ],
      "execution_count": null,
      "outputs": []
    }
  ]
}