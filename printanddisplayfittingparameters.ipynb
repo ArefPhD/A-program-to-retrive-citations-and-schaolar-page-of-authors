{
  "nbformat": 4,
  "nbformat_minor": 0,
  "metadata": {
    "colab": {
      "name": "Untitled112.ipynb",
      "private_outputs": true,
      "provenance": [],
      "authorship_tag": "ABX9TyNd4W6i99zjbvlqgm0zcEYt",
      "include_colab_link": true
    },
    "kernelspec": {
      "name": "python3",
      "display_name": "Python 3"
    },
    "language_info": {
      "name": "python"
    }
  },
  "cells": [
    {
      "cell_type": "markdown",
      "metadata": {
        "id": "view-in-github",
        "colab_type": "text"
      },
      "source": [
        "<a href=\"https://colab.research.google.com/github/ArefPhD/A-program-to-retrive-citations-and-schaolar-page-of-authors/blob/master/printanddisplayfittingparameters.ipynb\" target=\"_parent\"><img src=\"https://colab.research.google.com/assets/colab-badge.svg\" alt=\"Open In Colab\"/></a>"
      ]
    },
    {
      "cell_type": "markdown",
      "source": [
        "Polynomial fitting (2 or n in the np.polyfit designates the degree to which polynomial is being fitted onto the data ax+bx2+c"
      ],
      "metadata": {
        "id": "WfVN0eIUj9O8"
      }
    },
    {
      "cell_type": "code",
      "source": [
        "import numpy as np"
      ],
      "metadata": {
        "id": "oYGP0PJ9kJo0"
      },
      "execution_count": null,
      "outputs": []
    },
    {
      "cell_type": "code",
      "execution_count": null,
      "metadata": {
        "id": "cJGU9rr-j8X7"
      },
      "outputs": [],
      "source": [
        "x = np.array([0.0, 1.0, 2.0, 3.0,  4.0,  5.0])\n",
        "y = np.array([0.0, 1.0, 4.0, 9.0, 16.0, 25.0])\n",
        "z = np.polyfit(x, y, 2)"
      ]
    },
    {
      "cell_type": "code",
      "source": [
        "print(z)"
      ],
      "metadata": {
        "id": "AaPlEsNHkK2L"
      },
      "execution_count": null,
      "outputs": []
    },
    {
      "cell_type": "code",
      "source": [
        "display(z)"
      ],
      "metadata": {
        "id": "-J7iN2R0kML1"
      },
      "execution_count": null,
      "outputs": []
    }
  ]
}